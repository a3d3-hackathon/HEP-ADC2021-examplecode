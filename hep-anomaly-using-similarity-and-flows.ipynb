{
 "cells": [
  {
   "cell_type": "code",
   "execution_count": 1,
   "id": "5dcd81bc",
   "metadata": {},
   "outputs": [],
   "source": [
    "import h5py\n",
    "\n",
    "import matplotlib.pyplot as plt\n",
    "\n",
    "import torch\n",
    "import torch.nn.functional as F\n",
    "from torch import nn\n",
    "from torch.utils.data import Dataset, DataLoader\n",
    "from torch.utils.tensorboard import SummaryWriter"
   ]
  },
  {
   "cell_type": "code",
   "execution_count": 2,
   "id": "12e64858",
   "metadata": {},
   "outputs": [
    {
     "name": "stdout",
     "output_type": "stream",
     "text": [
      "Using device=device(type='cpu')\n"
     ]
    }
   ],
   "source": [
    "device = torch.device(\"cuda\" if torch.cuda.is_available() else \"cpu\")\n",
    "print(f\"Using {device=}\")"
   ]
  },
  {
   "cell_type": "code",
   "execution_count": 3,
   "id": "651e1bea",
   "metadata": {},
   "outputs": [],
   "source": [
    "background_dataset_name = 'background_dataset.h5'"
   ]
  },
  {
   "cell_type": "code",
   "execution_count": 4,
   "id": "d32bbd0d",
   "metadata": {},
   "outputs": [],
   "source": [
    "with h5py.File(background_dataset_name) as f:\n",
    "    X_test = f['X_test'][()]\n",
    "    X_train = f['X_train'][()]\n",
    "    X_val = f['X_val'][()]"
   ]
  },
  {
   "cell_type": "code",
   "execution_count": 5,
   "id": "ad678a17",
   "metadata": {},
   "outputs": [],
   "source": [
    "X_test = torch.from_numpy(X_test.reshape(-1, 19, 3)).to(dtype=torch.float32, device=device).transpose(1, 2)\n",
    "X_train = torch.from_numpy(X_train.reshape(-1, 19, 3)).to(dtype=torch.float32, device=device).transpose(1, 2)\n",
    "X_val = torch.from_numpy(X_val.reshape(-1, 19, 3)).to(dtype=torch.float32, device=device).transpose(1, 2)"
   ]
  },
  {
   "cell_type": "code",
   "execution_count": 6,
   "id": "557d58bc",
   "metadata": {
    "scrolled": true
   },
   "outputs": [
    {
     "data": {
      "text/plain": [
       "tensor([[65.4762, 37.9355,  0.0000,  0.0000,  0.0000,  0.0000,  0.0000,  0.0000,\n",
       "          0.0000, 21.6817,  0.0000,  0.0000,  0.0000,  0.0000,  0.0000,  0.0000,\n",
       "          0.0000,  0.0000,  0.0000],\n",
       "        [ 0.0000, -0.2620,  0.0000,  0.0000,  0.0000,  0.0000,  0.0000,  0.0000,\n",
       "          0.0000,  2.9084,  0.0000,  0.0000,  0.0000,  0.0000,  0.0000,  0.0000,\n",
       "          0.0000,  0.0000,  0.0000],\n",
       "        [-2.7295,  0.6561,  0.0000,  0.0000,  0.0000,  0.0000,  0.0000,  0.0000,\n",
       "          0.0000,  1.7582,  0.0000,  0.0000,  0.0000,  0.0000,  0.0000,  0.0000,\n",
       "          0.0000,  0.0000,  0.0000]])"
      ]
     },
     "execution_count": 6,
     "metadata": {},
     "output_type": "execute_result"
    }
   ],
   "source": [
    "X_test[0]"
   ]
  },
  {
   "cell_type": "code",
   "execution_count": 7,
   "id": "9e90d3b7",
   "metadata": {},
   "outputs": [
    {
     "data": {
      "text/plain": [
       "tensor([[ 0.0000, -1.7329, -0.3801,  0.0000,  0.0000,  0.0000,  0.0000,  0.0000,\n",
       "          0.0000, -1.7329,  0.0000,  0.0000,  0.0000,  0.0000,  0.0000,  0.0000,\n",
       "          0.0000,  0.0000,  0.0000],\n",
       "        [ 1.9248, -2.5162,  0.6048,  0.0000,  0.0000,  0.0000,  0.0000,  0.0000,\n",
       "          0.0000, -2.5162,  0.0000,  0.0000,  0.0000,  0.0000,  0.0000,  0.0000,\n",
       "          0.0000,  0.0000,  0.0000]])"
      ]
     },
     "execution_count": 7,
     "metadata": {},
     "output_type": "execute_result"
    }
   ],
   "source": [
    "X_train[0][1:5,:]"
   ]
  },
  {
   "cell_type": "code",
   "execution_count": 8,
   "id": "607d5457",
   "metadata": {},
   "outputs": [],
   "source": [
    "# torch.random.seed()\n",
    "\n",
    "class HEPDataSet(Dataset):\n",
    "    def __init__(self, dataset):\n",
    "        super().__init__()\n",
    "        self.dataset = dataset.clone()\n",
    "\n",
    "    def __len__(self):\n",
    "        return len(self.dataset)\n",
    "\n",
    "    def __getitem__(self, idx):\n",
    "        if torch.is_tensor(idx):\n",
    "            idx = idx.tolist()        \n",
    "        return self.dataset[idx]"
   ]
  },
  {
   "cell_type": "code",
   "execution_count": 9,
   "id": "cc7a4e01",
   "metadata": {},
   "outputs": [],
   "source": [
    "train_set = HEPDataSet(X_train)\n",
    "val_set = HEPDataSet(X_val)\n",
    "test_set = HEPDataSet(X_test)"
   ]
  },
  {
   "cell_type": "code",
   "execution_count": 10,
   "id": "0ea4655b",
   "metadata": {},
   "outputs": [],
   "source": [
    "batch_size = 4000\n",
    "train_data_loader = DataLoader(\n",
    "    train_set, batch_size=batch_size,\n",
    "    shuffle=True,\n",
    ")\n",
    "val_data_loader = DataLoader(\n",
    "    val_set, batch_size=batch_size,\n",
    "    shuffle=True,\n",
    ")\n",
    "test_data_loader = DataLoader(\n",
    "    test_set, batch_size=1,\n",
    "    shuffle=True,\n",
    ")"
   ]
  },
  {
   "cell_type": "code",
   "execution_count": 11,
   "id": "2efdc009",
   "metadata": {},
   "outputs": [
    {
     "data": {
      "text/plain": [
       "2153"
      ]
     },
     "execution_count": 11,
     "metadata": {},
     "output_type": "execute_result"
    }
   ],
   "source": [
    "len(train_data_loader)"
   ]
  },
  {
   "cell_type": "code",
   "execution_count": 12,
   "id": "858a4f3c",
   "metadata": {},
   "outputs": [],
   "source": [
    "for idx, val in enumerate(train_data_loader):\n",
    "    break"
   ]
  },
  {
   "cell_type": "code",
   "execution_count": 13,
   "id": "eea8b885",
   "metadata": {},
   "outputs": [],
   "source": [
    "for idx, val1 in enumerate(train_data_loader):\n",
    "    if idx==2: break"
   ]
  },
  {
   "cell_type": "code",
   "execution_count": 14,
   "id": "d5021dc1",
   "metadata": {},
   "outputs": [
    {
     "data": {
      "text/plain": [
       "torch.Size([4000, 3, 19])"
      ]
     },
     "execution_count": 14,
     "metadata": {},
     "output_type": "execute_result"
    }
   ],
   "source": [
    "val.shape"
   ]
  },
  {
   "cell_type": "code",
   "execution_count": 15,
   "id": "0bfca051",
   "metadata": {},
   "outputs": [],
   "source": [
    "# Implemented from https://github.com/violatingcp/codec/blob/main/losses.py\n",
    "class VICRegLoss(torch.nn.Module):\n",
    "    def __init__(self):\n",
    "        super().__init__()\n",
    "\n",
    "    def forward(self, x, y):\n",
    "        repr_loss = F.mse_loss(x, y)\n",
    "\n",
    "        x_mu = x.mean(dim=0)\n",
    "        x_std = x.std(dim=0) + 1e-2\n",
    "        y_mu = y.mean(dim=0)\n",
    "        y_std = y.std(dim=0) + 1e-2\n",
    "        \n",
    "        x = (x - x_mu)/x_std\n",
    "        y = (y - y_mu)/y_std\n",
    "\n",
    "        N = x.size(0)\n",
    "        D = x.size(-1)\n",
    "\n",
    "        std_loss = torch.mean(F.relu(1 - x_std, inplace=False)) / 2\n",
    "        std_loss += torch.mean(F.relu(1 - y_std, inplace=False)) / 2\n",
    "\n",
    "        cov_x = (x.transpose(1, 2).contiguous() @ x) / (N - 1)\n",
    "        cov_y = (y.transpose(1, 2).contiguous() @ y) / (N - 1)\n",
    "\n",
    "        cov_loss = self.off_diagonal(cov_x).pow_(2).sum().div(D)\n",
    "        cov_loss += self.off_diagonal(cov_y).pow_(2).sum().div(D)\n",
    "\n",
    "        return repr_loss + cov_loss + std_loss\n",
    "\n",
    "    def off_diagonal(self, x):\n",
    "        num_batch, n, m = x.shape\n",
    "        assert n == m\n",
    "        # All off diagonal elements from complete batch flattened\n",
    "        return x.flatten(start_dim=1)[...,:-1].view(num_batch, n - 1, n + 1)[...,1:].flatten()"
   ]
  },
  {
   "cell_type": "code",
   "execution_count": 16,
   "id": "731b2bd5",
   "metadata": {},
   "outputs": [],
   "source": [
    "vicreg_loss = VICRegLoss()"
   ]
  },
  {
   "cell_type": "code",
   "execution_count": 17,
   "id": "99700481",
   "metadata": {},
   "outputs": [],
   "source": [
    "from nflows.nn.nets import ResidualNet\n",
    "from nflows import transforms, distributions, flows"
   ]
  },
  {
   "cell_type": "code",
   "execution_count": 39,
   "id": "054b3fcd",
   "metadata": {},
   "outputs": [],
   "source": [
    "class SimilarityEmbedding(nn.Module):\n",
    "    \"\"\"An embedding with resnets\"\"\"\n",
    "    def __init__(self):\n",
    "        super().__init__()\n",
    "        self.resnet = ResidualNet(19, 1, 100)\n",
    "\n",
    "    def forward(self, x):\n",
    "        res_embedding = self.resnet(x)\n",
    "        #b, h, w = res_embedding.shape\n",
    "        #return res_embedding.reshape(b, 1, h*w)\n",
    "        return res_embedding"
   ]
  },
  {
   "cell_type": "code",
   "execution_count": 40,
   "id": "ea10c5f6",
   "metadata": {},
   "outputs": [],
   "source": [
    "similarity_embedding = SimilarityEmbedding()\n",
    "\n",
    "optimizer = torch.optim.Adam(similarity_embedding.parameters(), lr=1e-5)\n",
    "\n",
    "scheduler_1 = torch.optim.lr_scheduler.ConstantLR(optimizer, total_iters=5)\n",
    "scheduler_2 = torch.optim.lr_scheduler.ExponentialLR(optimizer, gamma=0.95)\n",
    "scheduler_3 = torch.optim.lr_scheduler.CosineAnnealingLR(optimizer, T_max=10, eta_min=1e-5)\n",
    "\n",
    "scheduler = torch.optim.lr_scheduler.SequentialLR(\n",
    "    optimizer, schedulers=[scheduler_1, scheduler_2, scheduler_3], milestones=[5, 20])"
   ]
  },
  {
   "cell_type": "code",
   "execution_count": 41,
   "id": "d798ecfe",
   "metadata": {},
   "outputs": [],
   "source": [
    "# similarity_embedding(m, e, mu, jet)"
   ]
  },
  {
   "cell_type": "code",
   "execution_count": 42,
   "id": "8c0f2cc8",
   "metadata": {},
   "outputs": [
    {
     "data": {
      "text/plain": [
       "torch.Size([1, 3, 19])"
      ]
     },
     "execution_count": 42,
     "metadata": {},
     "output_type": "execute_result"
    }
   ],
   "source": [
    "val.shape"
   ]
  },
  {
   "cell_type": "code",
   "execution_count": 43,
   "id": "18915cb6",
   "metadata": {},
   "outputs": [
    {
     "data": {
      "text/plain": [
       "torch.Size([1, 3, 1])"
      ]
     },
     "execution_count": 43,
     "metadata": {},
     "output_type": "execute_result"
    }
   ],
   "source": [
    "similarity_embedding(val).shape"
   ]
  },
  {
   "cell_type": "code",
   "execution_count": 44,
   "id": "4eb32d7b",
   "metadata": {},
   "outputs": [],
   "source": [
    "def train_one_epoch(epoch_index, tb_writer):\n",
    "    running_sim_loss = 0.\n",
    "    last_sim_loss = 0.\n",
    "\n",
    "    for idx, val in enumerate(train_data_loader, 1):\n",
    "        if val.shape[0] != batch_size:\n",
    "            continue\n",
    "\n",
    "        first_val_repeated = val[0].repeat(batch_size, 1, 1)\n",
    "        \n",
    "        embedded_values_aug = similarity_embedding(first_val_repeated)\n",
    "        embedded_values_orig = similarity_embedding(val)\n",
    "\n",
    "        similar_embedding_loss = vicreg_loss(embedded_values_aug, embedded_values_orig)\n",
    "\n",
    "        optimizer.zero_grad()\n",
    "        similar_embedding_loss.backward()\n",
    "        optimizer.step()\n",
    "        # Gather data and report\n",
    "        running_sim_loss += similar_embedding_loss.item()\n",
    "        if idx % 500 == 0:\n",
    "            last_sim_loss = running_sim_loss / 500\n",
    "            print(' Avg. train loss/batch after {} batches = {:.4f}'.format(idx, last_sim_loss))\n",
    "            tb_x = epoch_index * len(train_data_loader) + idx\n",
    "            tb_writer.add_scalar('SimLoss/train', last_sim_loss, tb_x)\n",
    "            running_sim_loss = 0.\n",
    "    return last_sim_loss\n",
    "\n",
    "\n",
    "def val_one_epoch(epoch_index, tb_writer):\n",
    "    running_sim_loss = 0.\n",
    "    last_sim_loss = 0.\n",
    "\n",
    "    for idx, val in enumerate(val_data_loader, 1):\n",
    "        if val.shape[0] != batch_size:\n",
    "            continue\n",
    "        first_val_repeated = val[0].repeat(batch_size, 1, 1)\n",
    "        \n",
    "        embedded_values_aug = similarity_embedding(first_val_repeated)\n",
    "        embedded_values_orig = similarity_embedding(val)\n",
    "\n",
    "        similar_embedding_loss = vicreg_loss(embedded_values_aug, embedded_values_orig)\n",
    "\n",
    "        running_sim_loss += similar_embedding_loss.item()\n",
    "        if idx % 50 == 0:\n",
    "            last_sim_loss = running_sim_loss / 50\n",
    "            tb_x = epoch_index * len(val_data_loader) + idx + 1\n",
    "            tb_writer.add_scalar('SimLoss/val', last_sim_loss, tb_x)\n",
    "            tb_writer.flush()\n",
    "            running_sim_loss = 0.\n",
    "    tb_writer.flush()\n",
    "    return last_sim_loss"
   ]
  },
  {
   "cell_type": "code",
   "execution_count": 46,
   "id": "df9cc494",
   "metadata": {},
   "outputs": [],
   "source": [
    "writer = SummaryWriter(\"hep_sim_together_round_2\", comment=\"Similarity with LR=1e-3\", flush_secs=5)\n",
    "epoch_number = 0"
   ]
  },
  {
   "cell_type": "code",
   "execution_count": 47,
   "id": "9b08ed1c",
   "metadata": {},
   "outputs": [
    {
     "name": "stdout",
     "output_type": "stream",
     "text": [
      "EPOCH 1:\n",
      " Avg. train loss/batch after 500 batches = 9.3904\n",
      " Avg. train loss/batch after 1000 batches = 6.5554\n",
      " Avg. train loss/batch after 1500 batches = 5.4307\n",
      " Avg. train loss/batch after 2000 batches = 4.3219\n",
      "Train/Val Sim Loss after epoch: 4.3219/4.0205\n",
      "EPOCH 2:\n",
      " Avg. train loss/batch after 500 batches = 3.7109\n",
      " Avg. train loss/batch after 1000 batches = 3.2320\n",
      " Avg. train loss/batch after 1500 batches = 2.5048\n",
      " Avg. train loss/batch after 2000 batches = 1.9421\n",
      "Train/Val Sim Loss after epoch: 1.9421/4.0490\n",
      "EPOCH 3:\n",
      " Avg. train loss/batch after 500 batches = 1.8178\n",
      " Avg. train loss/batch after 1000 batches = 1.4311\n",
      " Avg. train loss/batch after 1500 batches = 1.3433\n",
      " Avg. train loss/batch after 2000 batches = 1.2645\n",
      "Train/Val Sim Loss after epoch: 1.2645/1.2391\n",
      "EPOCH 4:\n",
      " Avg. train loss/batch after 500 batches = 1.2637\n",
      " Avg. train loss/batch after 1000 batches = 1.1927\n",
      " Avg. train loss/batch after 1500 batches = 1.2168\n",
      " Avg. train loss/batch after 2000 batches = 1.1326\n",
      "Train/Val Sim Loss after epoch: 1.1326/1.1441\n",
      "EPOCH 5:\n",
      " Avg. train loss/batch after 500 batches = 1.1730\n",
      " Avg. train loss/batch after 1000 batches = 1.1589\n",
      " Avg. train loss/batch after 1500 batches = 1.0704\n",
      " Avg. train loss/batch after 2000 batches = 1.0870\n",
      "Train/Val Sim Loss after epoch: 1.0870/1.0665\n",
      "EPOCH 6:\n"
     ]
    },
    {
     "name": "stderr",
     "output_type": "stream",
     "text": [
      "/home/deep/miniconda3/envs/mlpe-base/lib/python3.9/site-packages/torch/optim/lr_scheduler.py:163: UserWarning: The epoch parameter in `scheduler.step()` was not necessary and is being deprecated where possible. Please use `scheduler.step()` to step the scheduler. During the deprecation, if epoch is different from None, the closed form is used instead of the new chainable form, where available. Please open an issue if you are unable to replicate your use case: https://github.com/pytorch/pytorch/issues/new/choose.\n",
      "  warnings.warn(EPOCH_DEPRECATION_WARNING, UserWarning)\n"
     ]
    },
    {
     "name": "stdout",
     "output_type": "stream",
     "text": [
      " Avg. train loss/batch after 500 batches = 1.0859\n",
      " Avg. train loss/batch after 1000 batches = 1.0356\n",
      " Avg. train loss/batch after 1500 batches = 1.0353\n",
      " Avg. train loss/batch after 2000 batches = 1.0493\n",
      "Train/Val Sim Loss after epoch: 1.0493/1.0500\n",
      "EPOCH 7:\n",
      " Avg. train loss/batch after 500 batches = 1.0105\n",
      " Avg. train loss/batch after 1000 batches = 1.0029\n",
      " Avg. train loss/batch after 1500 batches = 1.0006\n",
      " Avg. train loss/batch after 2000 batches = 1.0072\n",
      "Train/Val Sim Loss after epoch: 1.0072/1.0857\n",
      "EPOCH 8:\n",
      " Avg. train loss/batch after 500 batches = 0.9925\n",
      " Avg. train loss/batch after 1000 batches = 1.0014\n",
      " Avg. train loss/batch after 1500 batches = 0.9928\n",
      " Avg. train loss/batch after 2000 batches = 1.0005\n",
      "Train/Val Sim Loss after epoch: 1.0005/0.9713\n",
      "EPOCH 9:\n",
      " Avg. train loss/batch after 500 batches = 0.9905\n",
      " Avg. train loss/batch after 1000 batches = 1.0000\n",
      " Avg. train loss/batch after 1500 batches = 0.9882\n",
      " Avg. train loss/batch after 2000 batches = 0.9821\n",
      "Train/Val Sim Loss after epoch: 0.9821/0.9650\n",
      "EPOCH 10:\n",
      " Avg. train loss/batch after 500 batches = 1.0040\n",
      " Avg. train loss/batch after 1000 batches = 0.9812\n",
      " Avg. train loss/batch after 1500 batches = 0.9940\n",
      " Avg. train loss/batch after 2000 batches = 1.0285\n",
      "Train/Val Sim Loss after epoch: 1.0285/0.9803\n",
      "CPU times: user 4h 15min 45s, sys: 3min 42s, total: 4h 19min 27s\n",
      "Wall time: 19min 12s\n"
     ]
    }
   ],
   "source": [
    "%%time\n",
    "# UNCOMMENT AND RUN TO TRAIN FROM SCRATCH\n",
    "EPOCHS = 10\n",
    "\n",
    "for epoch in range(EPOCHS):\n",
    "    print('EPOCH {}:'.format(epoch_number + 1))\n",
    "    # Gradient tracking\n",
    "    similarity_embedding.train(True)\n",
    "    avg_train_loss = train_one_epoch(epoch_number, writer)\n",
    "    \n",
    "    # no gradient tracking, for validation\n",
    "    similarity_embedding.train(False)\n",
    "    avg_val_loss = val_one_epoch(epoch_number, writer)\n",
    "    \n",
    "    print(f\"Train/Val Sim Loss after epoch: {avg_train_loss:.4f}/{avg_val_loss:.4f}\")\n",
    "\n",
    "    epoch_number += 1\n",
    "    scheduler.step()"
   ]
  },
  {
   "cell_type": "code",
   "execution_count": 48,
   "id": "233fa122",
   "metadata": {},
   "outputs": [],
   "source": [
    "# PATH = \"./similarity_model_together.pt\"\n",
    "# torch.save(similarity_embedding.state_dict(), PATH)\n",
    "# similarity_embedding.load_state_dict(torch.load(PATH))"
   ]
  },
  {
   "cell_type": "markdown",
   "id": "075f99d9",
   "metadata": {},
   "source": [
    "# Test set"
   ]
  },
  {
   "cell_type": "code",
   "execution_count": 49,
   "id": "12dc5a69",
   "metadata": {},
   "outputs": [],
   "source": [
    "sim_vals = []\n",
    "\n",
    "for idx, val in enumerate(test_data_loader, 1):\n",
    "    if idx % 1000 == 0: break\n",
    "    with torch.no_grad():\n",
    "        sim_val = similarity_embedding(val)\n",
    "        sim_vals.append(sim_val)"
   ]
  },
  {
   "cell_type": "code",
   "execution_count": 50,
   "id": "5fb6d762",
   "metadata": {},
   "outputs": [],
   "source": [
    "sim_vals = torch.stack(sim_vals).reshape(999, 3)"
   ]
  },
  {
   "cell_type": "code",
   "execution_count": 51,
   "id": "8db7b7d6",
   "metadata": {},
   "outputs": [
    {
     "data": {
      "text/plain": [
       "torch.Size([999, 3])"
      ]
     },
     "execution_count": 51,
     "metadata": {},
     "output_type": "execute_result"
    }
   ],
   "source": [
    "sim_vals.shape"
   ]
  },
  {
   "cell_type": "code",
   "execution_count": 52,
   "id": "1da33552",
   "metadata": {
    "scrolled": false
   },
   "outputs": [
    {
     "data": {
      "image/png": "[encoded data removed]",
      "text/plain": [
       "<Figure size 760x760 with 9 Axes>"
      ]
     },
     "metadata": {},
     "output_type": "display_data"
    }
   ],
   "source": [
    "import corner\n",
    "\n",
    "figure = corner.corner(\n",
    "    sim_vals.numpy(), color=\"C1\"\n",
    ")\n",
    "\n",
    "# figure = corner.corner(\n",
    "#     sim_e_vals.numpy(), color=\"C2\", fig=figure\n",
    "# )\n",
    "# figure = corner.corner(\n",
    "#     similarity_outputs_2.reshape((similarity_outputs_2.shape[0]*similarity_outputs_2.shape[1], 2)),\n",
    "#     quantiles=[0.16, 0.5, 0.84], fig=figure, color=\"C2\"\n",
    "# )"
   ]
  },
  {
   "cell_type": "code",
   "execution_count": 53,
   "id": "b28b4b3c",
   "metadata": {},
   "outputs": [],
   "source": [
    "# Freeze weights\n",
    "for name, param in similarity_embedding.named_parameters():\n",
    "    param.requires_grad = False"
   ]
  },
  {
   "cell_type": "code",
   "execution_count": 141,
   "id": "feaf8daf",
   "metadata": {},
   "outputs": [],
   "source": [
    "num_layers = 5\n",
    "base_dist = distributions.StandardNormal(shape=[3])\n",
    "\n",
    "transform_layers = []\n",
    "for _ in range(num_layers):\n",
    "    transform_layers.append(transforms.permutations.ReversePermutation(features=3))\n",
    "    transform_layers.append(\n",
    "        transforms.autoregressive.MaskedAffineAutoregressiveTransform(\n",
    "            features=3,\n",
    "            hidden_features=4\n",
    "        )\n",
    "    )\n",
    "transform_obj = transforms.CompositeTransform(transform_layers)\n",
    "\n",
    "flow_obj = flows.Flow(transform_obj, base_dist)\n",
    "optimizer = torch.optim.Adam(flow_obj.parameters(), lr=1e-3)"
   ]
  },
  {
   "cell_type": "code",
   "execution_count": 142,
   "id": "63cc7629",
   "metadata": {},
   "outputs": [
    {
     "data": {
      "text/plain": [
       "torch.Size([3, 1])"
      ]
     },
     "execution_count": 142,
     "metadata": {},
     "output_type": "execute_result"
    }
   ],
   "source": [
    "similarity_embedding(val).shape"
   ]
  },
  {
   "cell_type": "code",
   "execution_count": 150,
   "id": "041a4b40",
   "metadata": {},
   "outputs": [
    {
     "name": "stdout",
     "output_type": "stream",
     "text": [
      "-1.1702156066894531\n",
      "-1.6734691858291626\n",
      "-1.949434518814087\n",
      "-1.9545363187789917\n",
      "-2.2310380935668945\n",
      "-2.2673051357269287\n",
      "-2.353078842163086\n",
      "-2.4563910961151123\n",
      "-2.4946908950805664\n",
      "-2.5471909046173096\n"
     ]
    }
   ],
   "source": [
    "num_iter = 10\n",
    "for i in range(num_iter):\n",
    "    for idx, val in enumerate(train_data_loader):\n",
    "        if idx == 1000:\n",
    "            break\n",
    "        sim_val = similarity_embedding(val).reshape(4000, 3)\n",
    "        optimizer.zero_grad()\n",
    "        loss = -flow_obj.log_prob(inputs=sim_val).mean()\n",
    "        loss.backward()\n",
    "        optimizer.step()\n",
    "    print(loss.item())"
   ]
  },
  {
   "cell_type": "markdown",
   "id": "d1b1afd5",
   "metadata": {},
   "source": [
    "# Background dataset"
   ]
  },
  {
   "cell_type": "code",
   "execution_count": 220,
   "id": "c0764522",
   "metadata": {},
   "outputs": [],
   "source": [
    "p_vals = []\n",
    "for idx, val in enumerate(test_data_loader, 1):\n",
    "    if idx == 50000: break\n",
    "    with torch.no_grad():\n",
    "        log_p = flow_obj.log_prob(similarity_embedding(val).reshape(1, 3))\n",
    "        p_vals.append(log_p)"
   ]
  },
  {
   "cell_type": "markdown",
   "id": "7f8ae6bc",
   "metadata": {},
   "source": [
    "# Signal dataset"
   ]
  },
  {
   "cell_type": "code",
   "execution_count": 221,
   "id": "e2c0e838",
   "metadata": {},
   "outputs": [],
   "source": [
    "with h5py.File('signals_dataset.h5') as f:\n",
    "    sig_test = f['Data'][()]"
   ]
  },
  {
   "cell_type": "code",
   "execution_count": 222,
   "id": "4a7a8625",
   "metadata": {},
   "outputs": [],
   "source": [
    "sig_test = torch.from_numpy(sig_test.reshape(sig_test.shape[0], 3, 19)).to(dtype=torch.float32)"
   ]
  },
  {
   "cell_type": "code",
   "execution_count": 223,
   "id": "0e765ab6",
   "metadata": {},
   "outputs": [],
   "source": [
    "signal_p_vals = []\n",
    "for idx, val in enumerate(sig_test, 1):\n",
    "    if idx == 50000: break\n",
    "    with torch.no_grad():\n",
    "        log_p = flow_obj.log_prob(similarity_embedding(val).reshape(1, 3))\n",
    "        signal_p_vals.append(log_p)"
   ]
  },
  {
   "cell_type": "code",
   "execution_count": 251,
   "id": "c488af22",
   "metadata": {},
   "outputs": [
    {
     "data": {
      "text/plain": [
       "<matplotlib.legend.Legend at 0x7fb28d0aff70>"
      ]
     },
     "execution_count": 251,
     "metadata": {},
     "output_type": "execute_result"
    },
    {
     "data": {
      "image/png": "[encoded data removed]",
      "text/plain": [
       "<Figure size 640x480 with 1 Axes>"
      ]
     },
     "metadata": {},
     "output_type": "display_data"
    }
   ],
   "source": [
    "plt.hist(torch.stack(p_vals).flatten().numpy(), range=(-10, 6), bins=50, label='SM', density=True, alpha=0.6)\n",
    "plt.hist(torch.stack(signal_p_vals).flatten().numpy(), range=(-10, 6), bins=50, label='BSM', density=True, alpha=0.6)\n",
    "plt.title(\"50k each drawn from SM and BSM ($A \\\\rightarrow 4l$)\")\n",
    "plt.axvline(-5, label='Threshold', color='red')\n",
    "plt.annotate(\"\", xy=(-5.1, 0.5), xytext=(-7.5, 0.5),\n",
    "             arrowprops=dict(arrowstyle=\"<-\"))\n",
    "plt.text(-7.5, 0.52, \"Detection\")\n",
    "plt.xlabel(\"log prob.\")\n",
    "plt.legend()"
   ]
  },
  {
   "cell_type": "code",
   "execution_count": 225,
   "id": "72a4373a",
   "metadata": {},
   "outputs": [],
   "source": [
    "sm_p_vals = torch.stack(p_vals).flatten().numpy()\n",
    "bsm_p_vals = torch.stack(signal_p_vals).flatten().numpy()"
   ]
  },
  {
   "cell_type": "code",
   "execution_count": 254,
   "id": "4f7b434a",
   "metadata": {},
   "outputs": [
    {
     "data": {
      "text/plain": [
       "Text(0.5, 0, 'Log prob')"
      ]
     },
     "execution_count": 254,
     "metadata": {},
     "output_type": "execute_result"
    },
    {
     "data": {
      "image/png": "[encoded data removed]",
      "text/plain": [
       "<Figure size 640x480 with 1 Axes>"
      ]
     },
     "metadata": {},
     "output_type": "display_data"
    }
   ],
   "source": [
    "plt.hist(bsm_p_vals, label=\"BSM\")  # more values to the left\n",
    "plt.hist(sm_p_vals, label=\"SM\")\n",
    "plt.legend()\n",
    "plt.title(\"Full distribution\")\n",
    "plt.xlabel(\"Log prob\")"
   ]
  },
  {
   "cell_type": "code",
   "execution_count": 227,
   "id": "120ef212",
   "metadata": {},
   "outputs": [],
   "source": [
    "thresholds = np.linspace(-500, 10, 100)\n",
    "\n",
    "effs = []\n",
    "false_alarms = []\n",
    "\n",
    "for threshold in thresholds:\n",
    "    eff = np.sum(bsm_p_vals < threshold)\n",
    "    false_alarm = np.sum(sm_p_vals < threshold)\n",
    "    effs.append(eff)\n",
    "    false_alarms.append(false_alarm)"
   ]
  },
  {
   "cell_type": "code",
   "execution_count": 228,
   "id": "76369806",
   "metadata": {},
   "outputs": [],
   "source": [
    "effs = np.array(effs)/50000\n",
    "false_alarms = np.array(false_alarms)/50000"
   ]
  },
  {
   "cell_type": "code",
   "execution_count": 229,
   "id": "a1c1a7b6",
   "metadata": {},
   "outputs": [
    {
     "data": {
      "image/png": "[encoded data removed]",
      "text/plain": [
       "<Figure size 640x480 with 1 Axes>"
      ]
     },
     "metadata": {},
     "output_type": "display_data"
    }
   ],
   "source": [
    "plt.loglog(false_alarms, effs)\n",
    "plt.ylabel(\"Efficiency\")\n",
    "plt.xlabel(\"False Alarm\")\n",
    "plt.axvline(x=1e-5, c='r')\n",
    "plt.grid()"
   ]
  }
 ],
 "metadata": {
  "kernelspec": {
   "display_name": "Python 3 (ipykernel)",
   "language": "python",
   "name": "python3"
  },
  "language_info": {
   "codemirror_mode": {
    "name": "ipython",
    "version": 3
   },
   "file_extension": ".py",
   "mimetype": "text/x-python",
   "name": "python",
   "nbconvert_exporter": "python",
   "pygments_lexer": "ipython3",
   "version": "3.9.16"
  }
 },
 "nbformat": 4,
 "nbformat_minor": 5
}
