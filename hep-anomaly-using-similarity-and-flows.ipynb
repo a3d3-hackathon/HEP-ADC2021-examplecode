{
 "cells": [
  {
   "cell_type": "code",
   "execution_count": 1,
   "id": "5dcd81bc",
   "metadata": {},
   "outputs": [],
   "source": [
    "import h5py\n",
    "\n",
    "import matplotlib.pyplot as plt\n",
    "\n",
    "import torch\n",
    "from torch import nn\n",
    "import torch.nn.functional as F\n",
    "from torch.utils.data import Dataset, DataLoader\n",
    "from torch.utils.tensorboard import SummaryWriter"
   ]
  },
  {
   "cell_type": "code",
   "execution_count": 2,
   "id": "12e64858",
   "metadata": {},
   "outputs": [
    {
     "name": "stdout",
     "output_type": "stream",
     "text": [
      "Using device=device(type='cpu')\n"
     ]
    }
   ],
   "source": [
    "device = torch.device(\"cuda\" if torch.cuda.is_available() else \"cpu\")\n",
    "print(f\"Using {device=}\")"
   ]
  },
  {
   "cell_type": "code",
   "execution_count": 3,
   "id": "651e1bea",
   "metadata": {},
   "outputs": [],
   "source": [
    "background_dataset_name = 'background_dataset.h5'"
   ]
  },
  {
   "cell_type": "code",
   "execution_count": 4,
   "id": "d32bbd0d",
   "metadata": {},
   "outputs": [],
   "source": [
    "with h5py.File(background_dataset_name) as f:\n",
    "    X_test = f['X_test'][()]\n",
    "    X_train = f['X_train'][()]\n",
    "    X_val = f['X_val'][()]"
   ]
  },
  {
   "cell_type": "markdown",
   "id": "d9bfc6c0",
   "metadata": {},
   "source": [
    "# Reshape to have MET, particles, jets in the last dimension"
   ]
  },
  {
   "cell_type": "code",
   "execution_count": 5,
   "id": "ad678a17",
   "metadata": {},
   "outputs": [],
   "source": [
    "X_test = torch.from_numpy(X_test.reshape(-1, 19, 3)).to(dtype=torch.float32, device=device).transpose(1, 2)\n",
    "X_train = torch.from_numpy(X_train.reshape(-1, 19, 3)).to(dtype=torch.float32, device=device).transpose(1, 2)\n",
    "X_val = torch.from_numpy(X_val.reshape(-1, 19, 3)).to(dtype=torch.float32, device=device).transpose(1, 2)"
   ]
  },
  {
   "cell_type": "code",
   "execution_count": 6,
   "id": "9e90d3b7",
   "metadata": {},
   "outputs": [
    {
     "name": "stdout",
     "output_type": "stream",
     "text": [
      "Num dimensions 19; Num dimensions 3\n"
     ]
    }
   ],
   "source": [
    "print(f\"Num dimensions {X_train.shape[-1]}; Num dimensions {X_train.shape[-2]}\")"
   ]
  },
  {
   "cell_type": "code",
   "execution_count": 7,
   "id": "607d5457",
   "metadata": {},
   "outputs": [],
   "source": [
    "class HEPDataSet(Dataset):\n",
    "    def __init__(self, dataset):\n",
    "        super().__init__()\n",
    "        self.dataset = dataset.clone()\n",
    "\n",
    "    def __len__(self):\n",
    "        return len(self.dataset)\n",
    "\n",
    "    def __getitem__(self, idx):\n",
    "        if torch.is_tensor(idx):\n",
    "            idx = idx.tolist()        \n",
    "        return self.dataset[idx]"
   ]
  },
  {
   "cell_type": "code",
   "execution_count": 8,
   "id": "cc7a4e01",
   "metadata": {},
   "outputs": [],
   "source": [
    "train_set = HEPDataSet(X_train)\n",
    "val_set = HEPDataSet(X_val)\n",
    "test_set = HEPDataSet(X_test)"
   ]
  },
  {
   "cell_type": "code",
   "execution_count": 9,
   "id": "0ea4655b",
   "metadata": {},
   "outputs": [],
   "source": [
    "batch_size = 4000\n",
    "\n",
    "train_data_loader = DataLoader(\n",
    "    train_set, batch_size=batch_size,\n",
    "    shuffle=True,\n",
    ")\n",
    "val_data_loader = DataLoader(\n",
    "    val_set, batch_size=batch_size,\n",
    "    shuffle=True,\n",
    ")\n",
    "\n",
    "test_data_loader = DataLoader(\n",
    "    test_set, batch_size=batch_size,\n",
    "    shuffle=True,\n",
    ")"
   ]
  },
  {
   "cell_type": "code",
   "execution_count": 10,
   "id": "2efdc009",
   "metadata": {},
   "outputs": [
    {
     "name": "stdout",
     "output_type": "stream",
     "text": [
      "Num batches for training = 2153\n"
     ]
    }
   ],
   "source": [
    "print(f\"Num batches for training = {len(train_data_loader)}\")"
   ]
  },
  {
   "cell_type": "code",
   "execution_count": 11,
   "id": "858a4f3c",
   "metadata": {},
   "outputs": [],
   "source": [
    "for idx, val in enumerate(train_data_loader):\n",
    "    break"
   ]
  },
  {
   "cell_type": "code",
   "execution_count": 12,
   "id": "d5021dc1",
   "metadata": {},
   "outputs": [
    {
     "data": {
      "text/plain": [
       "torch.Size([4000, 3, 19])"
      ]
     },
     "execution_count": 12,
     "metadata": {},
     "output_type": "execute_result"
    }
   ],
   "source": [
    "val.shape"
   ]
  },
  {
   "cell_type": "markdown",
   "id": "482007aa",
   "metadata": {},
   "source": [
    "# Define similarity loss\n",
    "\n",
    "All of SM particles embedded to a space where we enforce similarity"
   ]
  },
  {
   "cell_type": "code",
   "execution_count": 13,
   "id": "0bfca051",
   "metadata": {},
   "outputs": [],
   "source": [
    "# Simplified implemented from https://github.com/violatingcp/codec/blob/main/losses.py\n",
    "class VICRegLoss(torch.nn.Module):\n",
    "    def __init__(self):\n",
    "        super().__init__()\n",
    "\n",
    "    def forward(self, x, y):\n",
    "        repr_loss = F.mse_loss(x, y)\n",
    "\n",
    "        x_mu = x.mean(dim=0)\n",
    "        x_std = x.std(dim=0) + 1e-2\n",
    "        y_mu = y.mean(dim=0)\n",
    "        y_std = y.std(dim=0) + 1e-2\n",
    "        \n",
    "        x = (x - x_mu)/x_std\n",
    "        y = (y - y_mu)/y_std\n",
    "\n",
    "        N = x.size(0)\n",
    "        D = x.size(-1)\n",
    "\n",
    "        std_loss = torch.mean(F.relu(1 - x_std, inplace=False)) / 2\n",
    "        std_loss += torch.mean(F.relu(1 - y_std, inplace=False)) / 2\n",
    "\n",
    "        cov_x = (x.transpose(1, 2).contiguous() @ x) / (N - 1)\n",
    "        cov_y = (y.transpose(1, 2).contiguous() @ y) / (N - 1)\n",
    "\n",
    "        cov_loss = self.off_diagonal(cov_x).pow_(2).sum().div(D)\n",
    "        cov_loss += self.off_diagonal(cov_y).pow_(2).sum().div(D)\n",
    "\n",
    "        return repr_loss + cov_loss + std_loss\n",
    "\n",
    "    def off_diagonal(self, x):\n",
    "        num_batch, n, m = x.shape\n",
    "        assert n == m\n",
    "        # All off diagonal elements from complete batch flattened\n",
    "        return x.flatten(start_dim=1)[...,:-1].view(num_batch, n - 1, n + 1)[...,1:].flatten()"
   ]
  },
  {
   "cell_type": "code",
   "execution_count": 14,
   "id": "731b2bd5",
   "metadata": {},
   "outputs": [],
   "source": [
    "vicreg_loss = VICRegLoss()"
   ]
  },
  {
   "cell_type": "code",
   "execution_count": 15,
   "id": "99700481",
   "metadata": {},
   "outputs": [],
   "source": [
    "from nflows.nn.nets import ResidualNet\n",
    "from nflows import transforms, distributions, flows"
   ]
  },
  {
   "cell_type": "code",
   "execution_count": 16,
   "id": "054b3fcd",
   "metadata": {},
   "outputs": [],
   "source": [
    "class SimilarityEmbedding(nn.Module):\n",
    "    \"\"\"An embedding with resnets\"\"\"\n",
    "    def __init__(self):\n",
    "        super().__init__()\n",
    "        self.resnet = ResidualNet(19, 1, 100)\n",
    "\n",
    "    def forward(self, x):\n",
    "        res_embedding = self.resnet(x)\n",
    "        return res_embedding"
   ]
  },
  {
   "cell_type": "code",
   "execution_count": 17,
   "id": "ea10c5f6",
   "metadata": {},
   "outputs": [],
   "source": [
    "similarity_embedding = SimilarityEmbedding()\n",
    "\n",
    "optimizer = torch.optim.Adam(similarity_embedding.parameters(), lr=1e-5)\n",
    "\n",
    "scheduler_1 = torch.optim.lr_scheduler.ConstantLR(optimizer, total_iters=5)\n",
    "scheduler_2 = torch.optim.lr_scheduler.ExponentialLR(optimizer, gamma=0.95)\n",
    "scheduler_3 = torch.optim.lr_scheduler.CosineAnnealingLR(optimizer, T_max=10, eta_min=1e-5)\n",
    "\n",
    "scheduler = torch.optim.lr_scheduler.SequentialLR(\n",
    "    optimizer, schedulers=[scheduler_1, scheduler_2, scheduler_3], milestones=[5, 20])"
   ]
  },
  {
   "cell_type": "code",
   "execution_count": 18,
   "id": "18915cb6",
   "metadata": {},
   "outputs": [
    {
     "data": {
      "text/plain": [
       "torch.Size([4000, 3, 1])"
      ]
     },
     "execution_count": 18,
     "metadata": {},
     "output_type": "execute_result"
    }
   ],
   "source": [
    "similarity_embedding(val).shape"
   ]
  },
  {
   "cell_type": "code",
   "execution_count": 19,
   "id": "4eb32d7b",
   "metadata": {},
   "outputs": [],
   "source": [
    "def train_one_epoch(epoch_index, tb_writer):\n",
    "    running_sim_loss = 0.\n",
    "    last_sim_loss = 0.\n",
    "\n",
    "    for idx, val in enumerate(train_data_loader, 1):\n",
    "        # only applicable to the final batch\n",
    "        if val.shape[0] != batch_size:\n",
    "            continue\n",
    "\n",
    "        # embed entire batch with first value of the batch repeated\n",
    "        first_val_repeated = val[0].repeat(batch_size, 1, 1)\n",
    "        \n",
    "        embedded_values_aug = similarity_embedding(first_val_repeated)\n",
    "        embedded_values_orig = similarity_embedding(val)\n",
    "\n",
    "        similar_embedding_loss = vicreg_loss(embedded_values_aug, embedded_values_orig)\n",
    "\n",
    "        optimizer.zero_grad()\n",
    "        similar_embedding_loss.backward()\n",
    "        optimizer.step()\n",
    "        # Gather data and report\n",
    "        running_sim_loss += similar_embedding_loss.item()\n",
    "        if idx % 500 == 0:\n",
    "            last_sim_loss = running_sim_loss / 500\n",
    "            print(' Avg. train loss/batch after {} batches = {:.4f}'.format(idx, last_sim_loss))\n",
    "            tb_x = epoch_index * len(train_data_loader) + idx\n",
    "            tb_writer.add_scalar('SimLoss/train', last_sim_loss, tb_x)\n",
    "            running_sim_loss = 0.\n",
    "    return last_sim_loss\n",
    "\n",
    "\n",
    "def val_one_epoch(epoch_index, tb_writer):\n",
    "    running_sim_loss = 0.\n",
    "    last_sim_loss = 0.\n",
    "\n",
    "    for idx, val in enumerate(val_data_loader, 1):\n",
    "        if val.shape[0] != batch_size:\n",
    "            continue\n",
    "\n",
    "        first_val_repeated = val[0].repeat(batch_size, 1, 1)\n",
    "\n",
    "        embedded_values_aug = similarity_embedding(first_val_repeated)\n",
    "        embedded_values_orig = similarity_embedding(val)\n",
    "\n",
    "        similar_embedding_loss = vicreg_loss(embedded_values_aug, embedded_values_orig)\n",
    "\n",
    "        running_sim_loss += similar_embedding_loss.item()\n",
    "        if idx % 50 == 0:\n",
    "            last_sim_loss = running_sim_loss / 50\n",
    "            tb_x = epoch_index * len(val_data_loader) + idx + 1\n",
    "            tb_writer.add_scalar('SimLoss/val', last_sim_loss, tb_x)\n",
    "            tb_writer.flush()\n",
    "            running_sim_loss = 0.\n",
    "    tb_writer.flush()\n",
    "    return last_sim_loss"
   ]
  },
  {
   "cell_type": "code",
   "execution_count": 20,
   "id": "df9cc494",
   "metadata": {},
   "outputs": [],
   "source": [
    "# writer = SummaryWriter(\"hep_sim_together_round_2\", comment=\"Similarity with LR=1e-3\", flush_secs=5)\n",
    "# epoch_number = 0"
   ]
  },
  {
   "cell_type": "code",
   "execution_count": 21,
   "id": "9b08ed1c",
   "metadata": {},
   "outputs": [],
   "source": [
    "# %%time\n",
    "# # UNCOMMENT AND RUN TO TRAIN FROM SCRATCH\n",
    "# EPOCHS = 10\n",
    "\n",
    "# for epoch in range(EPOCHS):\n",
    "#     print('EPOCH {}:'.format(epoch_number + 1))\n",
    "#     # Gradient tracking\n",
    "#     similarity_embedding.train(True)\n",
    "#     avg_train_loss = train_one_epoch(epoch_number, writer)\n",
    "    \n",
    "#     # no gradient tracking, for validation\n",
    "#     similarity_embedding.train(False)\n",
    "#     avg_val_loss = val_one_epoch(epoch_number, writer)\n",
    "    \n",
    "#     print(f\"Train/Val Sim Loss after epoch: {avg_train_loss:.4f}/{avg_val_loss:.4f}\")\n",
    "\n",
    "#     epoch_number += 1\n",
    "#     scheduler.step()"
   ]
  },
  {
   "cell_type": "code",
   "execution_count": 22,
   "id": "233fa122",
   "metadata": {},
   "outputs": [
    {
     "data": {
      "text/plain": [
       "<All keys matched successfully>"
      ]
     },
     "execution_count": 22,
     "metadata": {},
     "output_type": "execute_result"
    }
   ],
   "source": [
    "PATH = \"./similarity_model_together.pt\"\n",
    "# torch.save(similarity_embedding.state_dict(), PATH)\n",
    "similarity_embedding.load_state_dict(torch.load(PATH))"
   ]
  },
  {
   "cell_type": "markdown",
   "id": "075f99d9",
   "metadata": {},
   "source": [
    "# Plot embedded values for testing set"
   ]
  },
  {
   "cell_type": "code",
   "execution_count": 23,
   "id": "12dc5a69",
   "metadata": {},
   "outputs": [],
   "source": [
    "sim_vals = []\n",
    "\n",
    "for idx, val in enumerate(test_data_loader, 1):\n",
    "    if val.shape[0] != batch_size:\n",
    "        continue\n",
    "    with torch.no_grad():\n",
    "        sim_val = similarity_embedding(val)\n",
    "        sim_vals.append(sim_val)"
   ]
  },
  {
   "cell_type": "code",
   "execution_count": 24,
   "id": "5fb6d762",
   "metadata": {},
   "outputs": [],
   "source": [
    "sim_vals = torch.stack(sim_vals).reshape(len(sim_vals)*batch_size, 3)"
   ]
  },
  {
   "cell_type": "code",
   "execution_count": 25,
   "id": "8db7b7d6",
   "metadata": {},
   "outputs": [
    {
     "data": {
      "text/plain": [
       "torch.Size([2688000, 3])"
      ]
     },
     "execution_count": 25,
     "metadata": {},
     "output_type": "execute_result"
    }
   ],
   "source": [
    "sim_vals.shape"
   ]
  },
  {
   "cell_type": "code",
   "execution_count": 26,
   "id": "1da33552",
   "metadata": {
    "scrolled": false
   },
   "outputs": [
    {
     "name": "stderr",
     "output_type": "stream",
     "text": [
      "WARNING:root:Too few points to create valid contours\n",
      "WARNING:root:Too few points to create valid contours\n",
      "WARNING:root:Too few points to create valid contours\n"
     ]
    },
    {
     "data": {
      "image/png": "[encoded data removed]",
      "text/plain": [
       "<Figure size 760x760 with 9 Axes>"
      ]
     },
     "metadata": {},
     "output_type": "display_data"
    }
   ],
   "source": [
    "import corner\n",
    "\n",
    "figure = corner.corner(\n",
    "    sim_vals.numpy(), color=\"C1\")"
   ]
  },
  {
   "cell_type": "code",
   "execution_count": 27,
   "id": "ae87cb88",
   "metadata": {},
   "outputs": [],
   "source": [
    "# helper function to count trainable parameters\n",
    "def count_parameters(model):\n",
    "    return sum(p.numel() for p in model.parameters() if p.requires_grad)"
   ]
  },
  {
   "cell_type": "code",
   "execution_count": 28,
   "id": "bd723ee7",
   "metadata": {},
   "outputs": [
    {
     "name": "stdout",
     "output_type": "stream",
     "text": [
      "Num trainable parameters in embedding net: 42501\n"
     ]
    }
   ],
   "source": [
    "print(f\"Num trainable parameters in embedding net: {count_parameters(similarity_embedding)}\")"
   ]
  },
  {
   "cell_type": "code",
   "execution_count": 29,
   "id": "b28b4b3c",
   "metadata": {},
   "outputs": [],
   "source": [
    "# Freeze weights for embedding net\n",
    "for name, param in similarity_embedding.named_parameters():\n",
    "    param.requires_grad = False"
   ]
  },
  {
   "cell_type": "markdown",
   "id": "9a413b5f",
   "metadata": {},
   "source": [
    "# Create small Normalizing flow to transform above latent space\n",
    "\n",
    "This is used as a density estimation on the similar subspace"
   ]
  },
  {
   "cell_type": "code",
   "execution_count": 30,
   "id": "feaf8daf",
   "metadata": {},
   "outputs": [],
   "source": [
    "num_layers = 5\n",
    "base_dist = distributions.StandardNormal(shape=[3])\n",
    "\n",
    "transform_layers = []\n",
    "for _ in range(num_layers):\n",
    "    transform_layers.append(transforms.permutations.ReversePermutation(features=3))\n",
    "    transform_layers.append(\n",
    "        transforms.autoregressive.MaskedAffineAutoregressiveTransform(\n",
    "            features=3,\n",
    "            hidden_features=10\n",
    "        )\n",
    "    )\n",
    "\n",
    "transform_obj = transforms.CompositeTransform(transform_layers)\n",
    "\n",
    "flow_obj = flows.Flow(transform_obj, base_dist)\n",
    "\n",
    "optimizer = torch.optim.Adam(flow_obj.parameters(), lr=1e-2)\n",
    "scheduler = torch.optim.lr_scheduler.ExponentialLR(optimizer, gamma=0.9)"
   ]
  },
  {
   "cell_type": "code",
   "execution_count": 31,
   "id": "93eebce8",
   "metadata": {},
   "outputs": [
    {
     "name": "stdout",
     "output_type": "stream",
     "text": [
      "Num training parameters in flow = 2730\n"
     ]
    }
   ],
   "source": [
    "print(f\"Num training parameters in flow = {count_parameters(flow_obj)}\")"
   ]
  },
  {
   "cell_type": "code",
   "execution_count": 32,
   "id": "041a4b40",
   "metadata": {},
   "outputs": [],
   "source": [
    "# # UNCOMMENT AND RUN TO TRAIN FROM SCRATCH\n",
    "# num_iter = 10\n",
    "# for i in range(num_iter):\n",
    "#     # use the val_data_loader from previous step; this is only for quicker training\n",
    "#     # alternatively restrict to fewer batches from train data loader\n",
    "#     for idx, val in enumerate(val_data_loader):\n",
    "#         # to work with the reshaping below\n",
    "#         if val.shape[0] != batch_size:\n",
    "#             continue\n",
    "\n",
    "#         sim_val = similarity_embedding(val).reshape(4000, 3)\n",
    "#         optimizer.zero_grad()\n",
    "#         loss = -flow_obj.log_prob(inputs=sim_val).mean()\n",
    "#         loss.backward()\n",
    "#         optimizer.step()\n",
    "#     print(f\"Avg. log prob = {-loss.item():.3f}\")\n",
    "#     scheduler.step()"
   ]
  },
  {
   "cell_type": "code",
   "execution_count": 33,
   "id": "e088b0cd",
   "metadata": {},
   "outputs": [
    {
     "data": {
      "text/plain": [
       "<All keys matched successfully>"
      ]
     },
     "execution_count": 33,
     "metadata": {},
     "output_type": "execute_result"
    }
   ],
   "source": [
    "FLOW_WEIGHTS = \"./maf_flow.pt\"\n",
    "# torch.save(flow_obj.state_dict(), FLOW_WEIGHTS)\n",
    "flow_obj.load_state_dict(torch.load(FLOW_WEIGHTS))"
   ]
  },
  {
   "cell_type": "markdown",
   "id": "d1b1afd5",
   "metadata": {},
   "source": [
    "# Check Foreground (BSM) vs Background (SM) data\n",
    "\n",
    "Check and compare p-values for the SM and BSM particles"
   ]
  },
  {
   "cell_type": "code",
   "execution_count": 34,
   "id": "ad1bcdee",
   "metadata": {},
   "outputs": [],
   "source": [
    "import numpy as np"
   ]
  },
  {
   "cell_type": "code",
   "execution_count": 35,
   "id": "c0764522",
   "metadata": {},
   "outputs": [],
   "source": [
    "# For SM testing set\n",
    "# pick individual events from the test set and get p-val, stop at 50k\n",
    "p_vals = []\n",
    "for idx, val in enumerate(test_set, 1):\n",
    "    if idx == 50000: break\n",
    "    with torch.no_grad():\n",
    "        log_p = flow_obj.log_prob(similarity_embedding(val).reshape(1, 3))\n",
    "        p_vals.append(log_p)"
   ]
  },
  {
   "cell_type": "markdown",
   "id": "7f8ae6bc",
   "metadata": {},
   "source": [
    "# BSM dataset\n",
    "\n",
    "Do the same for the BSM dataset, stop at 50k for each type of event. Also use 50k of SM events from testing set."
   ]
  },
  {
   "cell_type": "markdown",
   "id": "d2058872",
   "metadata": {},
   "source": [
    "## $A \\rightarrow 4l$"
   ]
  },
  {
   "cell_type": "code",
   "execution_count": 36,
   "id": "e2c0e838",
   "metadata": {},
   "outputs": [],
   "source": [
    "with h5py.File('signals_dataset.h5') as f:\n",
    "    sig_test = f['Data'][()]"
   ]
  },
  {
   "cell_type": "code",
   "execution_count": 37,
   "id": "4a7a8625",
   "metadata": {},
   "outputs": [],
   "source": [
    "a_4l = torch.from_numpy(sig_test.reshape(sig_test.shape[0], 3, 19)).to(dtype=torch.float32)"
   ]
  },
  {
   "cell_type": "code",
   "execution_count": 38,
   "id": "0e765ab6",
   "metadata": {},
   "outputs": [],
   "source": [
    "a_4l_p_vals = []\n",
    "for idx, val in enumerate(a_4l, 1):\n",
    "    with torch.no_grad():\n",
    "        log_p = flow_obj.log_prob(similarity_embedding(val).reshape(1, 3))\n",
    "        a_4l_p_vals.append(log_p)"
   ]
  },
  {
   "cell_type": "code",
   "execution_count": 39,
   "id": "72a4373a",
   "metadata": {},
   "outputs": [],
   "source": [
    "sm_p_vals = torch.stack(p_vals).flatten().numpy()\n",
    "a_4l_p_vals = torch.stack(a_4l_p_vals).flatten().numpy()"
   ]
  },
  {
   "cell_type": "code",
   "execution_count": 40,
   "id": "c1ec1b6d",
   "metadata": {},
   "outputs": [
    {
     "name": "stdout",
     "output_type": "stream",
     "text": [
      "A to 4L p-val median -96.738\n",
      "A to 4L p-val mean -1028411424768.000\n"
     ]
    }
   ],
   "source": [
    "print(f\"A to 4L p-val median {np.median(a_4l_p_vals):.3f}\")\n",
    "print(f\"A to 4L p-val mean {np.mean(a_4l_p_vals):.3f}\")"
   ]
  },
  {
   "cell_type": "markdown",
   "id": "abd4117f",
   "metadata": {},
   "source": [
    "#### Comparing SM p-vals"
   ]
  },
  {
   "cell_type": "code",
   "execution_count": 41,
   "id": "bcb863a0",
   "metadata": {},
   "outputs": [
    {
     "name": "stdout",
     "output_type": "stream",
     "text": [
      "SM p-val median 3.657\n",
      "SM p-val mean 3.078\n"
     ]
    }
   ],
   "source": [
    "print(f\"SM p-val median {np.median(sm_p_vals):.3f}\")\n",
    "print(f\"SM p-val mean {np.mean(sm_p_vals):.3f}\")"
   ]
  },
  {
   "cell_type": "markdown",
   "id": "2c5d8805",
   "metadata": {},
   "source": [
    "## $h \\rightarrow \\tau\\tau$"
   ]
  },
  {
   "cell_type": "code",
   "execution_count": 42,
   "id": "7a4cc11c",
   "metadata": {},
   "outputs": [],
   "source": [
    "with h5py.File('signals_hToTauTau_dataset.h5') as f:\n",
    "    h_tau_tau = f['Data'][()]"
   ]
  },
  {
   "cell_type": "code",
   "execution_count": 43,
   "id": "60cdad41",
   "metadata": {},
   "outputs": [],
   "source": [
    "h_tau_tau = torch.from_numpy(h_tau_tau.reshape(h_tau_tau.shape[0], 3, 19)).to(dtype=torch.float32, device=device)"
   ]
  },
  {
   "cell_type": "code",
   "execution_count": 44,
   "id": "f44ccf29",
   "metadata": {},
   "outputs": [],
   "source": [
    "h_tau_tau_p_vals = []\n",
    "for idx, val in enumerate(h_tau_tau, 1):\n",
    "    with torch.no_grad():\n",
    "        log_p = flow_obj.log_prob(similarity_embedding(val).reshape(1, 3))\n",
    "        h_tau_tau_p_vals.append(log_p)"
   ]
  },
  {
   "cell_type": "code",
   "execution_count": 45,
   "id": "10b6a936",
   "metadata": {},
   "outputs": [],
   "source": [
    "h_tau_tau_p_vals = torch.stack(h_tau_tau_p_vals).flatten().numpy()"
   ]
  },
  {
   "cell_type": "code",
   "execution_count": 46,
   "id": "0c9e19d6",
   "metadata": {},
   "outputs": [
    {
     "name": "stdout",
     "output_type": "stream",
     "text": [
      "h to tau-tau p-val median -149.006\n",
      "h to tau-tau p-val mean -1623752966144.000\n"
     ]
    }
   ],
   "source": [
    "print(f\"h to tau-tau p-val median {np.median(h_tau_tau_p_vals):.3f}\")\n",
    "print(f\"h to tau-tau p-val mean {np.mean(h_tau_tau_p_vals):.3f}\")"
   ]
  },
  {
   "cell_type": "markdown",
   "id": "2e820a62",
   "metadata": {},
   "source": [
    "## $h^{\\pm} \\rightarrow \\tau\\nu$"
   ]
  },
  {
   "cell_type": "code",
   "execution_count": 47,
   "id": "ba6e7123",
   "metadata": {},
   "outputs": [],
   "source": [
    "with h5py.File('signals_hChToTauTau_dataset.h5') as f:\n",
    "    h_tau_nu = f['Data'][()]"
   ]
  },
  {
   "cell_type": "code",
   "execution_count": 48,
   "id": "8643e463",
   "metadata": {},
   "outputs": [],
   "source": [
    "h_tau_nu = torch.from_numpy(h_tau_nu.reshape(h_tau_nu.shape[0], 3, 19)).to(dtype=torch.float32)"
   ]
  },
  {
   "cell_type": "code",
   "execution_count": 49,
   "id": "abbdbb32",
   "metadata": {},
   "outputs": [],
   "source": [
    "h_tau_nu_p_vals = []\n",
    "for idx, val in enumerate(h_tau_nu, 1):\n",
    "    with torch.no_grad():\n",
    "        log_p = flow_obj.log_prob(similarity_embedding(val).reshape(1, 3))\n",
    "        h_tau_nu_p_vals.append(log_p)"
   ]
  },
  {
   "cell_type": "code",
   "execution_count": 50,
   "id": "4467e393",
   "metadata": {},
   "outputs": [],
   "source": [
    "h_tau_nu_p_vals = torch.stack(h_tau_nu_p_vals).flatten().numpy()"
   ]
  },
  {
   "cell_type": "code",
   "execution_count": 51,
   "id": "a17d72a1",
   "metadata": {},
   "outputs": [
    {
     "name": "stdout",
     "output_type": "stream",
     "text": [
      "h to tau-nu p-val median -372.200\n",
      "h to tau-nu p-val mean -106421528142299529216.000\n"
     ]
    }
   ],
   "source": [
    "print(f\"h to tau-nu p-val median {np.median(h_tau_nu_p_vals):.3f}\")\n",
    "print(f\"h to tau-nu p-val mean {np.mean(h_tau_nu_p_vals):.3f}\")"
   ]
  },
  {
   "cell_type": "markdown",
   "id": "717fbc0b",
   "metadata": {},
   "source": [
    "## $LQ \\rightarrow b\\tau$"
   ]
  },
  {
   "cell_type": "code",
   "execution_count": 52,
   "id": "eb9a2a42",
   "metadata": {},
   "outputs": [],
   "source": [
    "with h5py.File(\"signals_leptoquark_dataset.h5\") as f:\n",
    "    leptoquark = f['Data'][()]"
   ]
  },
  {
   "cell_type": "code",
   "execution_count": 53,
   "id": "4d041623",
   "metadata": {},
   "outputs": [],
   "source": [
    "leptoquark = torch.from_numpy(leptoquark.reshape(leptoquark.shape[0], 3, 19)).to(dtype=torch.float32, device=device)"
   ]
  },
  {
   "cell_type": "code",
   "execution_count": 54,
   "id": "1e5aa4d7",
   "metadata": {},
   "outputs": [],
   "source": [
    "leptoquark_p_vals = []\n",
    "for idx, val in enumerate(leptoquark, 1):\n",
    "    with torch.no_grad():\n",
    "        log_p = flow_obj.log_prob(similarity_embedding(val).reshape(1, 3))\n",
    "        leptoquark_p_vals.append(log_p)"
   ]
  },
  {
   "cell_type": "code",
   "execution_count": 55,
   "id": "b2324e83",
   "metadata": {},
   "outputs": [],
   "source": [
    "leptoquark_p_vals = torch.stack(leptoquark_p_vals).flatten().numpy()"
   ]
  },
  {
   "cell_type": "code",
   "execution_count": 56,
   "id": "53ccf27b",
   "metadata": {},
   "outputs": [
    {
     "name": "stdout",
     "output_type": "stream",
     "text": [
      "LQ to b-tau p-val median -167.808\n",
      "LQ to b-tau p-val mean -329009312.000\n"
     ]
    }
   ],
   "source": [
    "print(f\"LQ to b-tau p-val median {np.median(leptoquark_p_vals):.3f}\")\n",
    "print(f\"LQ to b-tau p-val mean {np.mean(leptoquark_p_vals):.3f}\")"
   ]
  },
  {
   "cell_type": "markdown",
   "id": "0f74190d",
   "metadata": {},
   "source": [
    "# Efficiency vs. False alarm of all BSM events"
   ]
  },
  {
   "cell_type": "markdown",
   "id": "38350396",
   "metadata": {},
   "source": [
    "### Restricting scale of the plot\n",
    "\n",
    "Here, the plot is zoomed to higher p-values. Most of the BSM distribution has significantly negative p-vals."
   ]
  },
  {
   "cell_type": "code",
   "execution_count": 57,
   "id": "4746cccd",
   "metadata": {},
   "outputs": [
    {
     "data": {
      "text/plain": [
       "<matplotlib.legend.Legend at 0x7f66fb11ae20>"
      ]
     },
     "execution_count": 57,
     "metadata": {},
     "output_type": "execute_result"
    },
    {
     "data": {
      "image/png": "[encoded data removed]",
      "text/plain": [
       "<Figure size 640x480 with 1 Axes>"
      ]
     },
     "metadata": {},
     "output_type": "display_data"
    }
   ],
   "source": [
    "plt.hist(sm_p_vals, range=(-10, 6), bins=50, label='SM',\n",
    "         density=True, alpha=0.8)\n",
    "plt.hist(leptoquark_p_vals, range=(-10, 6), bins=50, label='$LQ \\\\rightarrow b\\\\tau$',\n",
    "         density=True, alpha=0.8, histtype='step', linewidth=2)\n",
    "plt.hist(h_tau_tau_p_vals, range=(-10, 6), bins=50, label='$h \\\\rightarrow \\\\tau\\\\tau$',\n",
    "         density=True, alpha=0.8, histtype='step', linewidth=2)\n",
    "plt.hist(h_tau_nu_p_vals, range=(-10, 6), bins=50, label='$h^{\\pm} \\\\rightarrow \\\\tau\\\\nu$',\n",
    "         density=True, alpha=0.8, histtype='step', linewidth=2)\n",
    "plt.hist(a_4l_p_vals, range=(-10, 6), bins=50, label='$A \\\\rightarrow 4l$',\n",
    "         density=True, alpha=0.8, histtype='step', linewidth=2)\n",
    "plt.title(\"50k each drawn from SM and BSM events\")\n",
    "plt.axvline(-5, label='Ex. Threshold', color='red')\n",
    "plt.annotate(\"\", xy=(-5.1, 0.5), xytext=(-7.5, 0.5),\n",
    "             arrowprops=dict(arrowstyle=\"<-\"))\n",
    "plt.text(-7.5, 0.52, \"Detection\")\n",
    "plt.xlabel(\"log prob.\")\n",
    "plt.legend()"
   ]
  },
  {
   "cell_type": "code",
   "execution_count": 58,
   "id": "f7266e19",
   "metadata": {},
   "outputs": [],
   "source": [
    "from itertools import cycle\n",
    "\n",
    "colors = cycle(['red', 'green', 'blue', 'black'])\n",
    "linestyles = cycle(['--', '-.', ':', '-'])"
   ]
  },
  {
   "cell_type": "code",
   "execution_count": 59,
   "id": "e4cf58bb",
   "metadata": {},
   "outputs": [],
   "source": [
    "thresholds = np.linspace(-300, 6, 500)\n",
    "\n",
    "p_vals = {\n",
    "    'h_tau_tau': h_tau_tau_p_vals,\n",
    "    'h_tau_nu': h_tau_nu_p_vals,\n",
    "    'A_4l': a_4l_p_vals,\n",
    "    'leptoquark': leptoquark_p_vals\n",
    "}\n",
    "\n",
    "efficiencies = dict.fromkeys(p_vals)\n",
    "false_alarms = dict.fromkeys(p_vals)\n",
    "\n",
    "\n",
    "for k, p_val in p_vals.items():\n",
    "    eff = []\n",
    "    false = []\n",
    "    for threshold in thresholds:\n",
    "        _eff = np.sum(p_val < threshold)\n",
    "        _false = np.sum(sm_p_vals < threshold)\n",
    "        eff.append(_eff)\n",
    "        false.append(_false)\n",
    "    efficiencies[k] = np.array(eff)/len(p_val)\n",
    "    false_alarms[k] = np.array(false)/len(p_val)"
   ]
  },
  {
   "cell_type": "code",
   "execution_count": 60,
   "id": "cefa8950",
   "metadata": {},
   "outputs": [
    {
     "data": {
      "image/png": "[encoded data removed]",
      "text/plain": [
       "<Figure size 640x480 with 1 Axes>"
      ]
     },
     "metadata": {},
     "output_type": "display_data"
    }
   ],
   "source": [
    "plt.figure()\n",
    "\n",
    "for k in efficiencies:\n",
    "    plt.loglog(false_alarms[k], efficiencies[k], label=k,\n",
    "               color=next(colors), linestyle=next(linestyles), alpha=0.6)\n",
    "\n",
    "plt.legend()\n",
    "plt.ylim((0.8, 1))\n",
    "plt.ylabel(\"Efficiency\")\n",
    "plt.xlabel(\"False Alarm\")\n",
    "plt.axvline(x=1e-5, c='r')\n",
    "plt.grid()"
   ]
  }
 ],
 "metadata": {
  "kernelspec": {
   "display_name": "Python 3 (ipykernel)",
   "language": "python",
   "name": "python3"
  },
  "language_info": {
   "codemirror_mode": {
    "name": "ipython",
    "version": 3
   },
   "file_extension": ".py",
   "mimetype": "text/x-python",
   "name": "python",
   "nbconvert_exporter": "python",
   "pygments_lexer": "ipython3",
   "version": "3.9.16"
  }
 },
 "nbformat": 4,
 "nbformat_minor": 5
}
